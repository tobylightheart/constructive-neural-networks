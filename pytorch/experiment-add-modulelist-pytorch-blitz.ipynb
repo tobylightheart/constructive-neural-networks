{
 "cells": [
  {
   "cell_type": "markdown",
   "metadata": {},
   "source": [
    "# Constructive Neural Networks Tutorial\n",
    "This tutorial will demonstrate an approach to implementing a constructive algorithm in PyTorch.\n",
    "Modifying a tutorial provided in the 60-minute Blitz on the PyTorch website: https://pytorch.org/tutorials/beginner/blitz/neural_networks_tutorial.html#sphx-glr-beginner-blitz-neural-networks-tutorial-py "
   ]
  },
  {
   "cell_type": "code",
   "execution_count": null,
   "metadata": {},
   "outputs": [],
   "source": [
    "import torch\n",
    "import torch.nn as nn\n",
    "import torch.nn.functional as F\n",
    "\n",
    "class Net(nn.Module):\n",
    "\n",
    "    def __init__(self):\n",
    "        super(Net, self).__init__()\n",
    "        # 1 input image channel, 6 output channels, 5x5 square convolution\n",
    "        # kernel\n",
    "        self.conv1 = nn.Conv2d(1, 6, 5)\n",
    "        self.conv2 = nn.Conv2d(6, 16, 5)\n",
    "        # an affine operation: y = Wx + b\n",
    "        self.fc1 = nn.Linear(16 * 5 * 5, 120)\n",
    "        self.fc2 = nn.Linear(120, 84)\n",
    "        self.fc3 = nn.Linear(84, 10)\n",
    "\n",
    "    def forward(self, x):\n",
    "        # Max pooling over a (2, 2) window\n",
    "        x = F.max_pool2d(F.relu(self.conv1(x)), (2, 2))\n",
    "        # If the size is a square you can only specify a single number\n",
    "        x = F.max_pool2d(F.relu(self.conv2(x)), 2)\n",
    "        x = x.view(-1, self.num_flat_features(x))\n",
    "        x = F.relu(self.fc1(x))\n",
    "        x = F.relu(self.fc2(x))\n",
    "        x = self.fc3(x)\n",
    "        return x\n",
    "\n",
    "    def num_flat_features(self, x):\n",
    "        size = x.size()[1:]  # all dimensions except the batch dimension\n",
    "        num_features = 1\n",
    "        for s in size:\n",
    "            num_features *= s\n",
    "        return num_features\n",
    "\n",
    "\n",
    "net = Net()\n",
    "print(net)"
   ]
  },
  {
   "cell_type": "code",
   "execution_count": null,
   "metadata": {},
   "outputs": [],
   "source": [
    "params = list(net.parameters())\n",
    "print(len(params))\n",
    "print(params[2].size())  # conv2's .weight"
   ]
  },
  {
   "cell_type": "code",
   "execution_count": 8,
   "metadata": {},
   "outputs": [
    {
     "name": "stdout",
     "output_type": "stream",
     "text": [
      "{'dataset': Dataset MNIST\n",
      "    Number of datapoints: 60000\n",
      "    Split: train\n",
      "    Root Location: MNIST\n",
      "    Transforms (if any): Compose(\n",
      "                             Pad(padding=2, fill=0, padding_mode=constant)\n",
      "                             ToTensor()\n",
      "                             Normalize(mean=(0.1307,), std=(0.3081,))\n",
      "                         )\n",
      "    Target Transforms (if any): None, 'batch_size': 4, 'num_workers': 0, 'collate_fn': <function default_collate at 0x0000020C191E9F28>, 'pin_memory': False, 'drop_last': False, 'timeout': 0, 'worker_init_fn': None, 'sampler': <torch.utils.data.sampler.RandomSampler object at 0x0000020C1D4E2940>, 'batch_sampler': <torch.utils.data.sampler.BatchSampler object at 0x0000020C1D4E2A20>, '_DataLoader__initialized': True}\n",
      "(tensor([[[-0.4242, -0.4242, -0.4242,  ..., -0.4242, -0.4242, -0.4242],\n",
      "         [-0.4242, -0.4242, -0.4242,  ..., -0.4242, -0.4242, -0.4242],\n",
      "         [-0.4242, -0.4242, -0.4242,  ..., -0.4242, -0.4242, -0.4242],\n",
      "         ...,\n",
      "         [-0.4242, -0.4242, -0.4242,  ..., -0.4242, -0.4242, -0.4242],\n",
      "         [-0.4242, -0.4242, -0.4242,  ..., -0.4242, -0.4242, -0.4242],\n",
      "         [-0.4242, -0.4242, -0.4242,  ..., -0.4242, -0.4242, -0.4242]]]), tensor(5))\n"
     ]
    }
   ],
   "source": [
    "from TLDatasetLoaders import MNISTDataset\n",
    "\n",
    "m_data = MNISTDataset()\n",
    "\n",
    "print(vars(m_data.trainloader))\n",
    "print(m_data.trainset[0])"
   ]
  },
  {
   "cell_type": "code",
   "execution_count": 3,
   "metadata": {},
   "outputs": [
    {
     "name": "stderr",
     "output_type": "stream",
     "text": [
      "Clipping input data to the valid range for imshow with RGB data ([0..1] for floats or [0..255] for integers).\n"
     ]
    },
    {
     "data": {
      "image/png": "[encoded data removed]",
      "text/plain": [
       "<Figure size 432x288 with 1 Axes>"
      ]
     },
     "metadata": {},
     "output_type": "display_data"
    },
    {
     "name": "stdout",
     "output_type": "stream",
     "text": [
      "tensor(2) tensor(2) tensor(7) tensor(4)\n"
     ]
    }
   ],
   "source": [
    "import torchvision\n",
    "from TLDatasetLoaders import imshow\n",
    "\n",
    "# get some random training images\n",
    "dataiter = iter(m_data.testloader)\n",
    "images, labels = dataiter.next()\n",
    "\n",
    "# show images\n",
    "imshow(torchvision.utils.make_grid(images))\n",
    "\n",
    "# print labels\n",
    "print(' '.join('%5s' % labels[j] for j in range(4)))"
   ]
  },
  {
   "cell_type": "code",
   "execution_count": null,
   "metadata": {},
   "outputs": [],
   "source": [
    "# optimiser\n",
    "import torch.optim as optim\n",
    "\n",
    "criterion = nn.CrossEntropyLoss()\n",
    "optimizer = optim.SGD(net.parameters(), lr=0.001, momentum=0.9)\n"
   ]
  },
  {
   "cell_type": "code",
   "execution_count": null,
   "metadata": {},
   "outputs": [],
   "source": [
    "for epoch in range(2):  # loop over the dataset multiple times\n",
    "\n",
    "    running_loss = 0.0\n",
    "    for i, data in enumerate(m_data.trainloader, 0):\n",
    "        # get the inputs\n",
    "        inputs, labels = data\n",
    "\n",
    "        # zero the parameter gradients\n",
    "        optimizer.zero_grad()\n",
    "\n",
    "        # forward + backward + optimize\n",
    "        outputs = net(inputs)\n",
    "        loss = criterion(outputs, labels)\n",
    "        loss.backward()\n",
    "        optimizer.step()\n",
    "\n",
    "        # print statistics\n",
    "        running_loss += loss.item()\n",
    "        if i % 2000 == 1999:    # print every 2000 mini-batches\n",
    "            print('[%d, %5d] loss: %.3f' %\n",
    "                  (epoch + 1, i + 1, running_loss / 2000))\n",
    "            running_loss = 0.0\n",
    "\n",
    "print('Finished Training')"
   ]
  },
  {
   "cell_type": "code",
   "execution_count": null,
   "metadata": {},
   "outputs": [],
   "source": [
    "dataiter = iter(m_data.testloader)\n",
    "images, labels = dataiter.next()\n",
    "\n",
    "# print images\n",
    "imshow(torchvision.utils.make_grid(images))\n",
    "print('GroundTruth: ', ' '.join('%5s' % labels[j] for j in range(4)))"
   ]
  },
  {
   "cell_type": "code",
   "execution_count": null,
   "metadata": {},
   "outputs": [],
   "source": [
    "outputs = net(images)\n",
    "\n",
    "_, predicted = torch.max(outputs, 1)\n",
    "\n",
    "print('Predicted: ', ' '.join('%5s' % predicted[j]\n",
    "                              for j in range(4)))"
   ]
  },
  {
   "cell_type": "code",
   "execution_count": null,
   "metadata": {},
   "outputs": [],
   "source": [
    "correct = 0\n",
    "total = 0\n",
    "with torch.no_grad():\n",
    "    for data in m_data.testloader:\n",
    "        images, labels = data\n",
    "        outputs = net(images)\n",
    "        _, predicted = torch.max(outputs.data, 1)\n",
    "        total += labels.size(0)\n",
    "        correct += (predicted == labels).sum().item()\n",
    "\n",
    "print('Accuracy of the network on the 10000 test images: %d %%' % (\n",
    "    100 * correct / total))"
   ]
  },
  {
   "cell_type": "code",
   "execution_count": null,
   "metadata": {},
   "outputs": [],
   "source": [
    "class_correct = list(0. for i in range(10))\n",
    "class_total = list(0. for i in range(10))\n",
    "with torch.no_grad():\n",
    "    for data in m_data.testloader:\n",
    "        images, labels = data\n",
    "        outputs = net(images)\n",
    "        _, predicted = torch.max(outputs, 1)\n",
    "        c = (predicted == labels).squeeze()\n",
    "        for i in range(4):\n",
    "            label = labels[i]\n",
    "            class_correct[label] += c[i].item()\n",
    "            class_total[label] += 1\n",
    "\n",
    "\n",
    "for i in range(10):\n",
    "    print('Accuracy of %5s : %2d %%' % (\n",
    "        i, 100 * class_correct[i] / class_total[i]))"
   ]
  },
  {
   "cell_type": "code",
   "execution_count": 177,
   "metadata": {},
   "outputs": [
    {
     "name": "stdout",
     "output_type": "stream",
     "text": [
      "ConstructiveNet(\n",
      "  (layers): ModuleList(\n",
      "    (0): ModuleList(\n",
      "      (0): Conv2d(1, 3, kernel_size=(5, 5), stride=(1, 1))\n",
      "      (1): Conv2d(1, 3, kernel_size=(5, 5), stride=(1, 1))\n",
      "    )\n",
      "    (1): ModuleList(\n",
      "      (0): Conv2d(6, 16, kernel_size=(5, 5), stride=(1, 1))\n",
      "    )\n",
      "    (2): ModuleList(\n",
      "      (0): Linear(in_features=400, out_features=120, bias=True)\n",
      "    )\n",
      "    (3): ModuleList(\n",
      "      (0): Linear(in_features=120, out_features=10, bias=True)\n",
      "    )\n",
      "    (4): ModuleList(\n",
      "      (0): Linear(in_features=10, out_features=10, bias=True)\n",
      "    )\n",
      "  )\n",
      ")\n"
     ]
    }
   ],
   "source": [
    "import math\n",
    "import torch\n",
    "import torch.nn as nn\n",
    "import torch.nn.functional as F\n",
    "\n",
    "class ConstructiveNet(nn.Module):\n",
    "\n",
    "    def __init__(self):\n",
    "        super(ConstructiveNet, self).__init__()\n",
    "        \n",
    "        self.layers = nn.ModuleList()\n",
    "        self.layers.append(nn.ModuleList([nn.Conv2d(1,3,5), nn.Conv2d(1,3,5)]))\n",
    "        self.layers.append(nn.ModuleList([nn.Conv2d(6,16,5)]))\n",
    "        self.layers.append(nn.ModuleList([nn.Linear(16 * 5 * 5, 120)]))\n",
    "        self.layers.append(nn.ModuleList([nn.Linear(120, 10)]))\n",
    "        self.layers.append(nn.ModuleList([nn.Linear(10, 10)]))\n",
    "\n",
    "    def forward(self, x):\n",
    "        # Max pooling over a (2, 2) window\n",
    "        x = F.max_pool2d(F.relu(torch.cat([net_m(x) for net_m in iter(self.layers[0])],1)), (2, 2))\n",
    "        # If the size is a square you can only specify a single number\n",
    "        x = F.max_pool2d(F.relu(self.layers[1][0](x)), 2)\n",
    "        x = x.view(-1, self.num_flat_features(x))\n",
    "        x = F.relu(self.layers[2][0](x))\n",
    "        x = F.relu(self.layers[3][0](x))\n",
    "        x = self.layers[4][0](x)\n",
    "        \n",
    "        return x\n",
    "\n",
    "    def num_flat_features(self, x):\n",
    "        size = x.size()[1:]  # all dimensions except the batch dimension\n",
    "        num_features = 1\n",
    "        for s in size:\n",
    "            num_features *= s\n",
    "        return num_features\n",
    "    \n",
    "    def append_kaiming_uniform(self, weight_parameter, new_channels, \n",
    "                                a=0, mode='fan_in', \n",
    "                                nonlinearity='leaky_relu'):\n",
    "        size = [m for m in weight_parameter.size()]\n",
    "        size_append = [m for m in weight_parameter.size()]\n",
    "        size[1] += new_channels \n",
    "        size_append[1] = new_channels\n",
    "        \n",
    "        # calculate fan_in or fan_out\n",
    "        if len(size)<2:\n",
    "            raise ValueError(\"Fan in and fan out can not be computed for tensor with fewer than 2 dimensions\")\n",
    "        fan_x = size[1] if mode=='fan_in' else size[0]\n",
    "        if len(size)>2:\n",
    "            #num_input_fmaps = size[1]\n",
    "            #num_output_fmaps = size[0]\n",
    "            #receptive_field_size = tensor[0][0].numel()\n",
    "            fan_x *= weight_parameter[0][0].numel()\n",
    "        gain = torch.nn.init.calculate_gain(nonlinearity, a)\n",
    "        std = gain / math.sqrt(fan_x)\n",
    "        bound = math.sqrt(3.0) * std\n",
    "        \n",
    "        weight_tensor_append = torch.empty(size_append, requires_grad=True)\n",
    "        with torch.no_grad():\n",
    "            weight_tensor_append.data.uniform_(-bound,bound)\n",
    "        return torch.cat([weight_parameter.data, weight_tensor_append],1)\n",
    "    \n",
    "    def new_in_channels(self, nmod, new_channels):\n",
    "        nmod_size = nmod.weight.size()\n",
    "        nmod.in_channels += new_channels\n",
    "        nmod.weight.data = self.append_kaiming_uniform(nmod.weight, new_channels)\n",
    "    \n",
    "    # append a new nn.Module (m) to the network layer (layer)\n",
    "    def append_layer_module(self, layer, m):\n",
    "        if layer < len(self.layers):\n",
    "            self.layers[layer].append(m)\n",
    "            if layer < len(self.layers)-1:\n",
    "                for nmod in iter(self.layers[layer+1]):\n",
    "                    self.new_in_channels(nmod, m.out_channels)\n",
    "\n",
    "constructive_net = ConstructiveNet()\n",
    "print(constructive_net)"
   ]
  },
  {
   "cell_type": "code",
   "execution_count": 178,
   "metadata": {},
   "outputs": [
    {
     "name": "stdout",
     "output_type": "stream",
     "text": [
      "torch.Size([16, 6, 5, 5])\n",
      "ConstructiveNet(\n",
      "  (layers): ModuleList(\n",
      "    (0): ModuleList(\n",
      "      (0): Conv2d(1, 3, kernel_size=(5, 5), stride=(1, 1))\n",
      "      (1): Conv2d(1, 3, kernel_size=(5, 5), stride=(1, 1))\n",
      "      (2): Conv2d(1, 3, kernel_size=(5, 5), stride=(1, 1))\n",
      "    )\n",
      "    (1): ModuleList(\n",
      "      (0): Conv2d(9, 16, kernel_size=(5, 5), stride=(1, 1))\n",
      "    )\n",
      "    (2): ModuleList(\n",
      "      (0): Linear(in_features=400, out_features=120, bias=True)\n",
      "    )\n",
      "    (3): ModuleList(\n",
      "      (0): Linear(in_features=120, out_features=10, bias=True)\n",
      "    )\n",
      "    (4): ModuleList(\n",
      "      (0): Linear(in_features=10, out_features=10, bias=True)\n",
      "    )\n",
      "  )\n",
      ")\n",
      "torch.Size([16, 9, 5, 5])\n"
     ]
    }
   ],
   "source": [
    "#net_input = torch.randn(1,1,32,32)\n",
    "\n",
    "#constructive_net.layers[0][1].weight\n",
    "#torch.cat([constructive_net.layers[0][i](net_input) for i in enumerate(constructive_net.layers[0])])\n",
    "#F.relu(constructive_net.layers[0][0](torch.randn(1,1,32,32)))\n",
    "\n",
    "#torch.cat([net_m(net_input) for nnn in iter(constructive_net.layers[0])],1).size()\n",
    "\n",
    "#import matplotlib.pyplot as plt \n",
    "#plt.hist(constructive_net.layers[1][0].weight.data.flatten(),25)\n",
    "#plt.hist((torch.randn((1,3000)))/15,25)\n",
    "\n",
    "# things to change in a conv module following a layer that increases size:\n",
    "#  - self.in_channels\n",
    "#  - self.weight\n",
    "\n",
    "#print(len(constructive_net.layers))\n",
    "#print(constructive_net.layers[0][0].weight.size()) #out_channels\n",
    "#print(torch.zeros((3,1,3)))\n",
    "#print(constructive_net.layers[0][0].weight)\n",
    "#t_new = constructive_net.layers[0][0].weight\n",
    "#t_new[0,0,0,0] = 1\n",
    "\n",
    "#new_channels = 2\n",
    "#w_size = constructive_net.layers[0][0].weight.size()\n",
    "#w_size = [m for m in constructive_net.layers[0][0].weight.size()]\n",
    "\n",
    "#w_size[0] = new_channels\n",
    "#w_new = torch.zeros(w_size, requires_grad=True)\n",
    "\n",
    "#reproduce kaiming_uniform_\n",
    "#receptive_field_size = constructive_net.layers[0][0].weight[0][0].numel()\n",
    "\n",
    "#print(receptive_field_size)\n",
    "\n",
    "#print(constructive_net.layers[0][0].in_channels)\n",
    "\n",
    "#print(constructive_net.layers[1][0].weight)\n",
    "#print(constructive_net.layers[1][0].weight.data)\n",
    "\n",
    "print(constructive_net.layers[1][0].weight.size())\n",
    "constructive_net.append_layer_module(0, nn.Conv2d(1,3,5))\n",
    "print(constructive_net)\n",
    "print(constructive_net.layers[1][0].weight.size())"
   ]
  },
  {
   "cell_type": "code",
   "execution_count": 179,
   "metadata": {},
   "outputs": [],
   "source": [
    "# optimiser\n",
    "\n",
    "import torch.optim as optim\n",
    "\n",
    "cn_criterion = nn.CrossEntropyLoss()\n",
    "cn_optimizer = optim.SGD(constructive_net.parameters(), lr=0.001, momentum=0.9)"
   ]
  },
  {
   "cell_type": "code",
   "execution_count": 180,
   "metadata": {},
   "outputs": [
    {
     "name": "stdout",
     "output_type": "stream",
     "text": [
      "[1,  2000] loss: 0.722\n",
      "[1,  4000] loss: 0.192\n",
      "[1,  6000] loss: 0.152\n",
      "[1,  8000] loss: 0.125\n",
      "[1, 10000] loss: 0.094\n",
      "[1, 12000] loss: 0.096\n",
      "[1, 14000] loss: 0.076\n",
      "[2,  2000] loss: 0.074\n",
      "[2,  4000] loss: 0.065\n",
      "[2,  6000] loss: 0.057\n",
      "[2,  8000] loss: 0.058\n",
      "[2, 10000] loss: 0.059\n",
      "[2, 12000] loss: 0.053\n",
      "[2, 14000] loss: 0.051\n",
      "Finished Training\n"
     ]
    }
   ],
   "source": [
    "for epoch in range(2):  # loop over the dataset multiple times\n",
    "\n",
    "    running_loss = 0.0\n",
    "    for i, data in enumerate(m_data.trainloader, 0):\n",
    "        # get the inputs\n",
    "        inputs, labels = data\n",
    "\n",
    "        # zero the parameter gradients\n",
    "        cn_optimizer.zero_grad()\n",
    "\n",
    "        # forward + backward + optimize\n",
    "        outputs = constructive_net(inputs)\n",
    "        loss = cn_criterion(outputs, labels)\n",
    "        loss.backward()\n",
    "        cn_optimizer.step()\n",
    "\n",
    "        # print statistics\n",
    "        running_loss += loss.item()\n",
    "        if i % 2000 == 1999:    # print every 2000 mini-batches\n",
    "            print('[%d, %5d] loss: %.3f' %\n",
    "                  (epoch + 1, i + 1, running_loss / 2000))\n",
    "            running_loss = 0.0\n",
    "\n",
    "print('Finished Training')"
   ]
  },
  {
   "cell_type": "code",
   "execution_count": 181,
   "metadata": {},
   "outputs": [
    {
     "name": "stderr",
     "output_type": "stream",
     "text": [
      "Clipping input data to the valid range for imshow with RGB data ([0..1] for floats or [0..255] for integers).\n"
     ]
    },
    {
     "data": {
      "image/png": "[encoded data removed]",
      "text/plain": [
       "<Figure size 432x288 with 1 Axes>"
      ]
     },
     "metadata": {},
     "output_type": "display_data"
    },
    {
     "name": "stdout",
     "output_type": "stream",
     "text": [
      "GroundTruth:  tensor(8) tensor(2) tensor(2) tensor(3)\n"
     ]
    }
   ],
   "source": [
    "dataiter = iter(m_data.testloader)\n",
    "images, labels = dataiter.next()\n",
    "\n",
    "# print images\n",
    "imshow(torchvision.utils.make_grid(images))\n",
    "print('GroundTruth: ', ' '.join('%5s' % labels[j] for j in range(4)))"
   ]
  },
  {
   "cell_type": "code",
   "execution_count": 182,
   "metadata": {},
   "outputs": [
    {
     "name": "stdout",
     "output_type": "stream",
     "text": [
      "Predicted:  tensor(8) tensor(2) tensor(2) tensor(3)\n"
     ]
    }
   ],
   "source": [
    "outputs = constructive_net(images)\n",
    "\n",
    "_, predicted = torch.max(outputs, 1)\n",
    "\n",
    "print('Predicted: ', ' '.join('%5s' % predicted[j]\n",
    "                              for j in range(4)))"
   ]
  },
  {
   "cell_type": "code",
   "execution_count": 183,
   "metadata": {},
   "outputs": [],
   "source": [
    "correct = 0\n",
    "total = 0\n",
    "with torch.no_grad():\n",
    "    for data in m_data.testloader:\n",
    "        images, labels = data\n",
    "        outputs = constructive_net(images)\n",
    "        _, predicted = torch.max(outputs.data, 1)\n",
    "        total += labels.size(0)\n",
    "        correct += (predicted == labels).sum().item()"
   ]
  },
  {
   "cell_type": "code",
   "execution_count": 184,
   "metadata": {},
   "outputs": [
    {
     "name": "stdout",
     "output_type": "stream",
     "text": [
      "Accuracy of the network on the 10000 test images: 98.72 %\n"
     ]
    }
   ],
   "source": [
    "print('Accuracy of the network on the 10000 test images: %.2f %%' % (\n",
    "    100 * correct / total))"
   ]
  },
  {
   "cell_type": "code",
   "execution_count": 186,
   "metadata": {},
   "outputs": [],
   "source": [
    "class_correct = list(0. for i in range(10))\n",
    "class_total = list(0. for i in range(10))\n",
    "with torch.no_grad():\n",
    "    for data in m_data.testloader:\n",
    "        images, labels = data\n",
    "        outputs = constructive_net(images)\n",
    "        _, predicted = torch.max(outputs, 1)\n",
    "        c = (predicted == labels).squeeze()\n",
    "        for i in range(4):\n",
    "            label = labels[i]\n",
    "            class_correct[label] += c[i].item()\n",
    "            class_total[label] += 1"
   ]
  },
  {
   "cell_type": "code",
   "execution_count": 187,
   "metadata": {},
   "outputs": [
    {
     "name": "stdout",
     "output_type": "stream",
     "text": [
      "Accuracy of    0 :    970 /  980 :   98.98 %\n",
      "Accuracy of    1 :   1125 / 1135 :   99.12 %\n",
      "Accuracy of    2 :   1019 / 1032 :   98.74 %\n",
      "Accuracy of    3 :   1006 / 1010 :   99.60 %\n",
      "Accuracy of    4 :    968 /  982 :   98.57 %\n",
      "Accuracy of    5 :    880 /  892 :   98.65 %\n",
      "Accuracy of    6 :    951 /  958 :   99.27 %\n",
      "Accuracy of    7 :   1014 / 1028 :   98.64 %\n",
      "Accuracy of    8 :    958 /  974 :   98.36 %\n",
      "Accuracy of    9 :    981 / 1009 :   97.22 %\n"
     ]
    }
   ],
   "source": [
    "for i in range(10):\n",
    "    print('Accuracy of %4s : %6d / %4d :   %.2f %%' % (\n",
    "        i, class_correct[i], class_total[i], 100 * class_correct[i] / class_total[i]))"
   ]
  }
 ],
 "metadata": {
  "kernelspec": {
   "display_name": "Python 3",
   "language": "python",
   "name": "python3"
  },
  "language_info": {
   "codemirror_mode": {
    "name": "ipython",
    "version": 3
   },
   "file_extension": ".py",
   "mimetype": "text/x-python",
   "name": "python",
   "nbconvert_exporter": "python",
   "pygments_lexer": "ipython3",
   "version": "3.6.8"
  }
 },
 "nbformat": 4,
 "nbformat_minor": 2
}
